{
 "cells": [
  {
   "cell_type": "code",
   "execution_count": 2,
   "metadata": {},
   "outputs": [],
   "source": [
    "import pandas as pd\n",
    "import numpy as np\n",
    "import warnings"
   ]
  },
  {
   "cell_type": "code",
   "execution_count": 3,
   "metadata": {},
   "outputs": [],
   "source": [
    "warnings.filterwarnings(\"ignore\")"
   ]
  },
  {
   "cell_type": "code",
   "execution_count": 4,
   "metadata": {},
   "outputs": [],
   "source": [
    "Base_File = 'C:/Users/skesh/Desktop/Cash flow automation/Oct Nov/Debtors GL Oct Nov/Base File for Cash flow-Oct Nov.xlsx'\n",
    "Account_Master_File = 'C:/Users/skesh/Desktop/Cash flow automation/Oct Nov/Debtors GL Oct Nov/Master file for Bank accounts_v3.xlsx'\n",
    "Sugar_File = 'C:/Users/skesh/Desktop/Cash flow automation/Oct Nov/Debtors GL Oct Nov/Sugar GL.xlsx'\n",
    "Alcohol_File = 'C:/Users/skesh/Desktop/Cash flow automation/Oct Nov/Debtors GL Oct Nov/Alcohol GL.xlsx'\n",
    "Molasses_File = 'C:/Users/skesh/Desktop/Cash flow automation/Oct Nov/Debtors GL Oct Nov/Molasses GL.xlsx'"
   ]
  },
  {
   "cell_type": "code",
   "execution_count": 5,
   "metadata": {
    "scrolled": true
   },
   "outputs": [
    {
     "data": {
      "text/plain": [
       "(60910, 29)"
      ]
     },
     "execution_count": 5,
     "metadata": {},
     "output_type": "execute_result"
    }
   ],
   "source": [
    "# Uploading and cleaning the raw base file\n",
    "\n",
    "df = pd.read_excel(Base_File)\n",
    "df = df.iloc[6:,2:-4].reset_index()\n",
    "df.columns = df.loc[[0]].values[0]\n",
    "df = df.iloc[1:,1:]\n",
    "df = df.dropna(how='all', axis=1)\n",
    "df = df[:-4]\n",
    "df.shape"
   ]
  },
  {
   "cell_type": "code",
   "execution_count": 9,
   "metadata": {},
   "outputs": [
    {
     "data": {
      "text/plain": [
       "Index(['Assignment', 'DocumentNo', 'Doc. Date', 'Type', 'PK',\n",
       "       'Amount in local cur.', 'LCurr', 'Clrng doc.', 'Clearing', 'Text',\n",
       "       'Reference Key', 'Document Header Text', '       Amount in DC', 'Curr.',\n",
       "       'Reference', 'Value date', 'Inv. ref.', 'D/C', 'Profit Ctr', 'AccTy',\n",
       "       'Account', 'Period', 'Year', 'Pstng Date', 'CoCd', 'Reverse clearing',\n",
       "       'Name of offsetting account', 'O', 'Offst.acct'],\n",
       "      dtype='object')"
      ]
     },
     "execution_count": 9,
     "metadata": {},
     "output_type": "execute_result"
    }
   ],
   "source": [
    "df.columns"
   ]
  },
  {
   "cell_type": "code",
   "execution_count": null,
   "metadata": {},
   "outputs": [],
   "source": []
  },
  {
   "cell_type": "code",
   "execution_count": null,
   "metadata": {},
   "outputs": [],
   "source": []
  },
  {
   "cell_type": "code",
   "execution_count": 10,
   "metadata": {},
   "outputs": [
    {
     "data": {
      "text/html": [
       "<div>\n",
       "<style scoped>\n",
       "    .dataframe tbody tr th:only-of-type {\n",
       "        vertical-align: middle;\n",
       "    }\n",
       "\n",
       "    .dataframe tbody tr th {\n",
       "        vertical-align: top;\n",
       "    }\n",
       "\n",
       "    .dataframe thead th {\n",
       "        text-align: right;\n",
       "    }\n",
       "</style>\n",
       "<table border=\"1\" class=\"dataframe\">\n",
       "  <thead>\n",
       "    <tr style=\"text-align: right;\">\n",
       "      <th></th>\n",
       "      <th>GL Account</th>\n",
       "      <th>Account Name</th>\n",
       "      <th>Type of Account</th>\n",
       "      <th>TRA/Non-TRA</th>\n",
       "    </tr>\n",
       "  </thead>\n",
       "  <tbody>\n",
       "    <tr>\n",
       "      <th>1</th>\n",
       "      <td>23130561</td>\n",
       "      <td>NOD-SBI-CB-CA-34492316158[M]</td>\n",
       "      <td>TRA-Principal</td>\n",
       "      <td>TRA</td>\n",
       "    </tr>\n",
       "    <tr>\n",
       "      <th>2</th>\n",
       "      <td>23130562</td>\n",
       "      <td>NOD-SBI-CA-316158[O]</td>\n",
       "      <td>TRA-Principal</td>\n",
       "      <td>TRA</td>\n",
       "    </tr>\n",
       "    <tr>\n",
       "      <th>3</th>\n",
       "      <td>23130563</td>\n",
       "      <td>NOD-SBI-CA-316158[I]</td>\n",
       "      <td>TRA-Principal</td>\n",
       "      <td>TRA</td>\n",
       "    </tr>\n",
       "    <tr>\n",
       "      <th>5</th>\n",
       "      <td>23152981</td>\n",
       "      <td>LKO-SBI-CB-CA-3537545556(M)</td>\n",
       "      <td>Cane Price Payment Account</td>\n",
       "      <td>TRA</td>\n",
       "    </tr>\n",
       "    <tr>\n",
       "      <th>6</th>\n",
       "      <td>23152982</td>\n",
       "      <td>LKO-SBI-CB-CA-3537545556(O)</td>\n",
       "      <td>Cane Price Payment Account</td>\n",
       "      <td>TRA</td>\n",
       "    </tr>\n",
       "    <tr>\n",
       "      <th>...</th>\n",
       "      <td>...</td>\n",
       "      <td>...</td>\n",
       "      <td>...</td>\n",
       "      <td>...</td>\n",
       "    </tr>\n",
       "    <tr>\n",
       "      <th>293</th>\n",
       "      <td>13100491</td>\n",
       "      <td>SBI-CMS BAJPRATAP</td>\n",
       "      <td>Collection Account</td>\n",
       "      <td>Collection Account</td>\n",
       "    </tr>\n",
       "    <tr>\n",
       "      <th>295</th>\n",
       "      <td>13100492</td>\n",
       "      <td>SBI-CMS RUDAULI COLLECTION ACCOUNT</td>\n",
       "      <td>Collection Account</td>\n",
       "      <td>Collection Account</td>\n",
       "    </tr>\n",
       "    <tr>\n",
       "      <th>297</th>\n",
       "      <td>13100493</td>\n",
       "      <td>SBI-CMS BAJUTRAULLA</td>\n",
       "      <td>Collection Account</td>\n",
       "      <td>Collection Account</td>\n",
       "    </tr>\n",
       "    <tr>\n",
       "      <th>299</th>\n",
       "      <td>13100494</td>\n",
       "      <td>SBI-CMS BAJKUNDARKHI</td>\n",
       "      <td>Collection Account</td>\n",
       "      <td>Collection Account</td>\n",
       "    </tr>\n",
       "    <tr>\n",
       "      <th>301</th>\n",
       "      <td>13100495</td>\n",
       "      <td>SBI-CMS BAJNOIDA</td>\n",
       "      <td>Collection Account</td>\n",
       "      <td>Collection Account</td>\n",
       "    </tr>\n",
       "  </tbody>\n",
       "</table>\n",
       "<p>210 rows × 4 columns</p>\n",
       "</div>"
      ],
      "text/plain": [
       "    GL Account                        Account Name  \\\n",
       "1     23130561        NOD-SBI-CB-CA-34492316158[M]   \n",
       "2     23130562                NOD-SBI-CA-316158[O]   \n",
       "3     23130563                NOD-SBI-CA-316158[I]   \n",
       "5     23152981         LKO-SBI-CB-CA-3537545556(M)   \n",
       "6     23152982         LKO-SBI-CB-CA-3537545556(O)   \n",
       "..         ...                                 ...   \n",
       "293   13100491                   SBI-CMS BAJPRATAP   \n",
       "295   13100492  SBI-CMS RUDAULI COLLECTION ACCOUNT   \n",
       "297   13100493                 SBI-CMS BAJUTRAULLA   \n",
       "299   13100494                SBI-CMS BAJKUNDARKHI   \n",
       "301   13100495                    SBI-CMS BAJNOIDA   \n",
       "\n",
       "                Type of Account         TRA/Non-TRA  \n",
       "1                 TRA-Principal                 TRA  \n",
       "2                 TRA-Principal                 TRA  \n",
       "3                 TRA-Principal                 TRA  \n",
       "5    Cane Price Payment Account                 TRA  \n",
       "6    Cane Price Payment Account                 TRA  \n",
       "..                          ...                 ...  \n",
       "293          Collection Account  Collection Account  \n",
       "295          Collection Account  Collection Account  \n",
       "297          Collection Account  Collection Account  \n",
       "299          Collection Account  Collection Account  \n",
       "301          Collection Account  Collection Account  \n",
       "\n",
       "[210 rows x 4 columns]"
      ]
     },
     "execution_count": 10,
     "metadata": {},
     "output_type": "execute_result"
    }
   ],
   "source": [
    "# Uploading Bank Account master and merging it with the base file\n",
    "\n",
    "Bank_Account_Master = pd.read_excel(Account_Master_File)\n",
    "Bank_Account_Master = Bank_Account_Master.iloc[:,3:].reset_index()\n",
    "Bank_Account_Master.columns = Bank_Account_Master.loc[[0]].values[0]\n",
    "Bank_Account_Master = Bank_Account_Master.iloc[1:,1:]\n",
    "Bank_Account_Master = Bank_Account_Master.dropna(how='all', axis=0)\n",
    "Bank_Account_Master"
   ]
  },
  {
   "cell_type": "code",
   "execution_count": 7,
   "metadata": {},
   "outputs": [
    {
     "data": {
      "text/plain": [
       "(60910, 33)"
      ]
     },
     "execution_count": 7,
     "metadata": {},
     "output_type": "execute_result"
    }
   ],
   "source": [
    "df = pd.merge(df, Bank_Account_Master, how = 'left', left_on = 'Account', right_on = 'GL Account')\n",
    "df.shape"
   ]
  },
  {
   "cell_type": "code",
   "execution_count": 8,
   "metadata": {},
   "outputs": [],
   "source": [
    "# Creating the new column\n",
    "\n",
    "df['Deloitte Classification Head'] = np.nan"
   ]
  },
  {
   "cell_type": "markdown",
   "metadata": {},
   "source": [
    "# Rule 1"
   ]
  },
  {
   "cell_type": "markdown",
   "metadata": {},
   "source": [
    "### Part 1"
   ]
  },
  {
   "cell_type": "code",
   "execution_count": 9,
   "metadata": {},
   "outputs": [],
   "source": [
    "df.loc[df[df.Type == 'ZR'].index,'Deloitte Classification Head'] = 'Transfer to Main account'\n"
   ]
  },
  {
   "cell_type": "markdown",
   "metadata": {},
   "source": [
    "### Part 2"
   ]
  },
  {
   "cell_type": "code",
   "execution_count": 10,
   "metadata": {},
   "outputs": [],
   "source": [
    "AB = df[df.Type == 'AB'][['DocumentNo','Amount in local cur.']]\n",
    "AB = pd.DataFrame(AB.groupby('DocumentNo')['Amount in local cur.'].sum()).reset_index()\n",
    "\n",
    "\n",
    "#pd.set_option('display.precision',4)\n",
    "#pd.options.display.float_format = '{:.5f}'.format\n",
    "NonZero = AB[(AB['Amount in local cur.'] > 0.5) | (AB['Amount in local cur.'] < -0.5)]\n",
    "\n",
    "\n",
    "Zero = AB[AB['Amount in local cur.'].between(-0.5,0.5)]\n",
    "\n"
   ]
  },
  {
   "cell_type": "code",
   "execution_count": 11,
   "metadata": {
    "scrolled": true
   },
   "outputs": [],
   "source": [
    "Zero['Head'] = 'Transfer to Main account'\n",
    "Zero.drop(['Amount in local cur.'],axis=1,inplace=True)\n",
    "df = pd.merge(df,Zero, how='left', on = 'DocumentNo')\n",
    "\n",
    "df['Deloitte Classification Head'].value_counts()\n",
    "\n",
    "df.loc[df[df.Head.notnull()].index,'Deloitte Classification Head'] = 'Transfer to Main account'\n"
   ]
  },
  {
   "cell_type": "code",
   "execution_count": 12,
   "metadata": {},
   "outputs": [
    {
     "name": "stdout",
     "output_type": "stream",
     "text": [
      "--------------------Rule 1 Executed--------------------\n"
     ]
    },
    {
     "data": {
      "text/plain": [
       "Transfer to Main account    40169\n",
       "Name: Deloitte Classification Head, dtype: int64"
      ]
     },
     "execution_count": 12,
     "metadata": {},
     "output_type": "execute_result"
    }
   ],
   "source": [
    "print('--------------------Rule 1 Executed--------------------')\n",
    "df['Deloitte Classification Head'].value_counts()"
   ]
  },
  {
   "cell_type": "markdown",
   "metadata": {},
   "source": [
    "# Rule 2"
   ]
  },
  {
   "cell_type": "code",
   "execution_count": 13,
   "metadata": {},
   "outputs": [],
   "source": [
    "df['interbank_flag'] = np.nan\n",
    "filters = ['funds transf','fund transf','fund recd','funds recd','funds transfer','fund transfer','fund transfar','fund transfer', 'fund tfd', 'fund trf', 'amt trf', 'funds recd', 'fund received, trf', 'transfer entry', 'auto fund sweep']\n"
   ]
  },
  {
   "cell_type": "code",
   "execution_count": 14,
   "metadata": {},
   "outputs": [],
   "source": [
    "df2 = df[df.Type == 'SA']"
   ]
  },
  {
   "cell_type": "code",
   "execution_count": 15,
   "metadata": {},
   "outputs": [],
   "source": [
    "res = []\n",
    "for i in df2['Text']:\n",
    "    for j in filters:\n",
    "        if j in str(i).lower():\n",
    "            ind = df2[df2['Text'] == str(i)].index.tolist()\n",
    "            #print(df2[df2['Text'] == str(i)].index)\n",
    "            res.append(ind)\n",
    "\n",
    "index = []\n",
    "for i in res:\n",
    "    for j in i:\n",
    "        if j not in index:\n",
    "            index.append(j)"
   ]
  },
  {
   "cell_type": "code",
   "execution_count": 16,
   "metadata": {},
   "outputs": [],
   "source": [
    "df.loc[index,'Deloitte Classification Head'] = 'Interbank transfer'"
   ]
  },
  {
   "cell_type": "code",
   "execution_count": 17,
   "metadata": {},
   "outputs": [
    {
     "name": "stdout",
     "output_type": "stream",
     "text": [
      "--------------------Rule 2 Executed--------------------\n"
     ]
    },
    {
     "data": {
      "text/plain": [
       "Transfer to Main account    40169\n",
       "Interbank transfer           2386\n",
       "Name: Deloitte Classification Head, dtype: int64"
      ]
     },
     "execution_count": 17,
     "metadata": {},
     "output_type": "execute_result"
    }
   ],
   "source": [
    "print('--------------------Rule 2 Executed--------------------')\n",
    "df['Deloitte Classification Head'].value_counts()"
   ]
  },
  {
   "cell_type": "markdown",
   "metadata": {},
   "source": [
    "# Rule 3"
   ]
  },
  {
   "cell_type": "code",
   "execution_count": 18,
   "metadata": {},
   "outputs": [],
   "source": [
    "DA_Cearing_doc = df[df.Type == 'DA']['DocumentNo'].values.tolist()\n",
    "DZ_Cearing_doc = df[df.Type == 'DZ'][df['Clrng doc.'].notnull()]['Clrng doc.'].values.tolist()\n",
    "\n",
    "#Check if all the doc from DA is present in clearing doc col for DZ\n",
    "Reverse_Transaction_doc_DADZ = []\n",
    "\n",
    "for i in DA_Cearing_doc:\n",
    "    if i in DZ_Cearing_doc:\n",
    "        Reverse_Transaction_doc_DADZ.append(i)\n",
    "        \n",
    "KA_Cearing_doc = df[df.Type == 'KA']['DocumentNo'].values.tolist()\n",
    "KZ_Cearing_doc = df[df.Type == 'KZ'][df['Clrng doc.'].notnull()]['Clrng doc.'].values.tolist()\n",
    "\n",
    "\n",
    "#Check if all the doc from KA is present in clearing doc col for KZ\n",
    "Reverse_Transaction_doc_KAKZ = []\n",
    "\n",
    "for i in KA_Cearing_doc:\n",
    "    if i in KZ_Cearing_doc:\n",
    "        Reverse_Transaction_doc_KAKZ.append(i)\n",
    "\n",
    "Reverse_Transaction = pd.DataFrame(Reverse_Transaction_doc_DADZ + Reverse_Transaction_doc_KAKZ, columns = ['Clrng doc.'])\n",
    "Reverse_Transaction['Reverse_Transaction_flag'] = 1"
   ]
  },
  {
   "cell_type": "code",
   "execution_count": 19,
   "metadata": {},
   "outputs": [],
   "source": [
    "df = pd.merge(df,Reverse_Transaction, how='left', on = ['Clrng doc.'])"
   ]
  },
  {
   "cell_type": "code",
   "execution_count": 20,
   "metadata": {
    "scrolled": true
   },
   "outputs": [],
   "source": [
    "\n",
    "df.loc[df[df.Reverse_Transaction_flag.notnull()].index,'Deloitte Classification Head'] = 'Reversal transaction'\n"
   ]
  },
  {
   "cell_type": "code",
   "execution_count": 21,
   "metadata": {},
   "outputs": [
    {
     "name": "stdout",
     "output_type": "stream",
     "text": [
      "--------------------Rule 3 Executed--------------------\n"
     ]
    },
    {
     "data": {
      "text/plain": [
       "Transfer to Main account    40169\n",
       "Interbank transfer           2386\n",
       "Reversal transaction          176\n",
       "Name: Deloitte Classification Head, dtype: int64"
      ]
     },
     "execution_count": 21,
     "metadata": {},
     "output_type": "execute_result"
    }
   ],
   "source": [
    "print('--------------------Rule 3 Executed--------------------')\n",
    "df['Deloitte Classification Head'].value_counts()"
   ]
  },
  {
   "cell_type": "markdown",
   "metadata": {},
   "source": [
    "\n",
    "# Rule 4,5,6,7 and 8"
   ]
  },
  {
   "cell_type": "markdown",
   "metadata": {},
   "source": [
    "### Collection Sugar"
   ]
  },
  {
   "cell_type": "code",
   "execution_count": 12,
   "metadata": {},
   "outputs": [],
   "source": [
    "Sugar = pd.read_excel(Sugar_File)\n",
    "Sugar = Sugar.iloc[6:,2:-4].reset_index()\n",
    "Sugar.columns = Sugar.loc[[0]].values[0]\n",
    "Sugar = Sugar.iloc[2:,1:]\n",
    "Sugar = Sugar.dropna(how='all', axis=1)\n",
    "Sugar = Sugar[:-3]"
   ]
  },
  {
   "cell_type": "code",
   "execution_count": 13,
   "metadata": {},
   "outputs": [
    {
     "data": {
      "text/plain": [
       "(78783, 29)"
      ]
     },
     "execution_count": 13,
     "metadata": {},
     "output_type": "execute_result"
    }
   ],
   "source": [
    "Sugar.shape"
   ]
  },
  {
   "cell_type": "code",
   "execution_count": 23,
   "metadata": {},
   "outputs": [],
   "source": [
    "Sug = pd.DataFrame(Sugar['Assignment'].unique(),columns = ['Assignment_Sug'])\n",
    "\n",
    "df = pd.merge(df, Sug, how = 'left', right_on = 'Assignment_Sug', left_on = 'Offst.acct')\n",
    "\n",
    "index = df[df['Assignment_Sug'].notnull()][df['TRA/Non-TRA']=='Collection Account'].index\n",
    "df.loc[index,'Deloitte Classification Head'] = 'Collection-Sugar'"
   ]
  },
  {
   "cell_type": "code",
   "execution_count": 24,
   "metadata": {},
   "outputs": [
    {
     "name": "stdout",
     "output_type": "stream",
     "text": [
      "--------------------Rule 4 Executed--------------------\n"
     ]
    },
    {
     "data": {
      "text/plain": [
       "Transfer to Main account    40169\n",
       "Collection-Sugar             8298\n",
       "Interbank transfer           2386\n",
       "Reversal transaction          104\n",
       "Name: Deloitte Classification Head, dtype: int64"
      ]
     },
     "execution_count": 24,
     "metadata": {},
     "output_type": "execute_result"
    }
   ],
   "source": [
    "print('--------------------Rule 4 Executed--------------------')\n",
    "df['Deloitte Classification Head'].value_counts()"
   ]
  },
  {
   "cell_type": "markdown",
   "metadata": {},
   "source": [
    "### Collection Alcohol "
   ]
  },
  {
   "cell_type": "code",
   "execution_count": 25,
   "metadata": {},
   "outputs": [
    {
     "data": {
      "text/plain": [
       "(367, 28)"
      ]
     },
     "execution_count": 25,
     "metadata": {},
     "output_type": "execute_result"
    }
   ],
   "source": [
    "alc = pd.read_excel(Alcohol_File)\n",
    "alc = alc.iloc[6:,2:-4].reset_index()#.drop(columns = 'index',inplace=True)\n",
    "alc.columns = alc.loc[[0]].values[0]\n",
    "alc = alc.iloc[2:,1:]\n",
    "alc = alc.dropna(how='all', axis=1)\n",
    "alc = alc[:-3]\n",
    "alc = alc[alc.Assignment.notnull()]\n",
    "alc.shape"
   ]
  },
  {
   "cell_type": "code",
   "execution_count": 26,
   "metadata": {},
   "outputs": [],
   "source": [
    "alcohol = pd.DataFrame(alc['Assignment'].unique(),columns = ['Assignment_alc'])\n",
    "\n",
    "df = pd.merge(df, alcohol, how = 'left', right_on = 'Assignment_alc', left_on = 'Offst.acct')\n",
    "\n",
    "index = df[df['Assignment_alc'].notnull()][df['TRA/Non-TRA']=='Collection Account'].index\n",
    "df.loc[index,'Deloitte Classification Head'] = 'Collection-Alcohol'"
   ]
  },
  {
   "cell_type": "code",
   "execution_count": 27,
   "metadata": {},
   "outputs": [
    {
     "name": "stdout",
     "output_type": "stream",
     "text": [
      "--------------------Rule 5 Executed--------------------\n"
     ]
    },
    {
     "data": {
      "text/plain": [
       "Transfer to Main account    40169\n",
       "Collection-Sugar             8298\n",
       "Interbank transfer           2386\n",
       "Reversal transaction          102\n",
       "Collection-Alcohol             32\n",
       "Name: Deloitte Classification Head, dtype: int64"
      ]
     },
     "execution_count": 27,
     "metadata": {},
     "output_type": "execute_result"
    }
   ],
   "source": [
    "print('--------------------Rule 5 Executed--------------------')\n",
    "df['Deloitte Classification Head'].value_counts()"
   ]
  },
  {
   "cell_type": "markdown",
   "metadata": {},
   "source": [
    "### Collection Power"
   ]
  },
  {
   "cell_type": "code",
   "execution_count": 28,
   "metadata": {
    "scrolled": true
   },
   "outputs": [],
   "source": [
    "index = df[df['Offst.acct'] == 1011580].index\n",
    "df.loc[index,'Deloitte Classification Head'] = 'Collection-Power'\n"
   ]
  },
  {
   "cell_type": "code",
   "execution_count": 29,
   "metadata": {},
   "outputs": [
    {
     "name": "stdout",
     "output_type": "stream",
     "text": [
      "--------------------Rule 6 Executed--------------------\n"
     ]
    },
    {
     "data": {
      "text/plain": [
       "Transfer to Main account    40169\n",
       "Collection-Sugar             8298\n",
       "Interbank transfer           2386\n",
       "Reversal transaction          102\n",
       "Collection-Alcohol             32\n",
       "Collection-Power               17\n",
       "Name: Deloitte Classification Head, dtype: int64"
      ]
     },
     "execution_count": 29,
     "metadata": {},
     "output_type": "execute_result"
    }
   ],
   "source": [
    "print('--------------------Rule 6 Executed--------------------')\n",
    "df['Deloitte Classification Head'].value_counts()"
   ]
  },
  {
   "cell_type": "markdown",
   "metadata": {},
   "source": [
    "### Collection Molasses"
   ]
  },
  {
   "cell_type": "code",
   "execution_count": 30,
   "metadata": {},
   "outputs": [
    {
     "name": "stdout",
     "output_type": "stream",
     "text": [
      "C:/Users/skesh/Desktop/Cash flow automation/Oct Nov/Debtors GL Oct Nov/Molasses GL.xlsx\n"
     ]
    }
   ],
   "source": [
    "print(Molasses_File)"
   ]
  },
  {
   "cell_type": "code",
   "execution_count": 31,
   "metadata": {},
   "outputs": [
    {
     "data": {
      "text/plain": [
       "(3601, 27)"
      ]
     },
     "execution_count": 31,
     "metadata": {},
     "output_type": "execute_result"
    }
   ],
   "source": [
    "mol = pd.read_excel(Molasses_File)\n",
    "mol = mol.iloc[6:,2:-4].reset_index()#.drop(columns = 'index',inplace=True)\n",
    "mol.columns = mol.loc[[0]].values[0]\n",
    "mol = mol.iloc[2:,1:]\n",
    "mol = mol.dropna(how='all', axis=1)\n",
    "mol = mol[:-3]\n",
    "mol = mol[mol.Assignment.notnull()]\n",
    "mol.shape"
   ]
  },
  {
   "cell_type": "code",
   "execution_count": 32,
   "metadata": {},
   "outputs": [
    {
     "data": {
      "text/plain": [
       "Index(['Assignment', 'DocumentNo', 'Doc. Date', 'Type', 'PK',\n",
       "       ' Amt in loc.cur.', 'LCurr', 'Clrng doc.', 'Clearing', 'Text',\n",
       "       'Reference Key', 'Doc.Header Text', '   Amount in DC', 'Curr.',\n",
       "       'Reference', 'Inv. ref.', 'D/C', 'Profit Ctr', 'AccTy', 'Account',\n",
       "       'Period', 'Year', 'Pstng Date', 'CoCd', 'Name of offsetting account',\n",
       "       'O', 'Offst.acct'],\n",
       "      dtype='object')"
      ]
     },
     "execution_count": 32,
     "metadata": {},
     "output_type": "execute_result"
    }
   ],
   "source": [
    "mol.columns"
   ]
  },
  {
   "cell_type": "code",
   "execution_count": 33,
   "metadata": {},
   "outputs": [],
   "source": [
    "Molasses = pd.DataFrame(mol['Assignment'].unique(),columns = ['Assignment_mol'])\n",
    "df = pd.merge(df, Molasses, how = 'left', right_on = 'Assignment_mol', left_on = 'Offst.acct')\n",
    "\n",
    "index = df[df['Assignment_mol'].notnull()][df['TRA/Non-TRA']=='Collection Account'].index\n",
    "df.loc[index,'Deloitte Classification Head'] = 'Collection-Molasses'"
   ]
  },
  {
   "cell_type": "code",
   "execution_count": 34,
   "metadata": {
    "scrolled": true
   },
   "outputs": [
    {
     "name": "stdout",
     "output_type": "stream",
     "text": [
      "--------------------Rule 7 Executed--------------------\n"
     ]
    },
    {
     "data": {
      "text/plain": [
       "Transfer to Main account    40169\n",
       "Collection-Sugar             8298\n",
       "Interbank transfer           2386\n",
       "Collection-Molasses           177\n",
       "Reversal transaction           98\n",
       "Collection-Alcohol             32\n",
       "Collection-Power               17\n",
       "Name: Deloitte Classification Head, dtype: int64"
      ]
     },
     "execution_count": 34,
     "metadata": {},
     "output_type": "execute_result"
    }
   ],
   "source": [
    "print('--------------------Rule 7 Executed--------------------')\n",
    "df['Deloitte Classification Head'].value_counts()"
   ]
  },
  {
   "cell_type": "markdown",
   "metadata": {},
   "source": [
    "### Collection Others"
   ]
  },
  {
   "cell_type": "code",
   "execution_count": 35,
   "metadata": {
    "scrolled": true
   },
   "outputs": [],
   "source": [
    "index = df[df['TRA/Non-TRA']=='Collection Account'][df['Deloitte Classification Head'].isnull()].index\n",
    "df.loc[index,'Deloitte Classification Head'] = 'Collection-Others'"
   ]
  },
  {
   "cell_type": "code",
   "execution_count": 36,
   "metadata": {},
   "outputs": [
    {
     "data": {
      "text/plain": [
       "(187, 40)"
      ]
     },
     "execution_count": 36,
     "metadata": {},
     "output_type": "execute_result"
    }
   ],
   "source": [
    "df[df['Deloitte Classification Head'] == 'Collection-Others'].shape"
   ]
  },
  {
   "cell_type": "code",
   "execution_count": 37,
   "metadata": {},
   "outputs": [
    {
     "name": "stdout",
     "output_type": "stream",
     "text": [
      "--------------------Rule 8 Executed--------------------\n"
     ]
    },
    {
     "data": {
      "text/plain": [
       "Transfer to Main account    40169\n",
       "Collection-Sugar             8298\n",
       "Interbank transfer           2386\n",
       "Collection-Others             187\n",
       "Collection-Molasses           177\n",
       "Reversal transaction           98\n",
       "Collection-Alcohol             32\n",
       "Collection-Power               17\n",
       "Name: Deloitte Classification Head, dtype: int64"
      ]
     },
     "execution_count": 37,
     "metadata": {},
     "output_type": "execute_result"
    }
   ],
   "source": [
    "print('--------------------Rule 8 Executed--------------------')\n",
    "df['Deloitte Classification Head'].value_counts()"
   ]
  },
  {
   "cell_type": "markdown",
   "metadata": {},
   "source": [
    "# Rule 9 - Cane Payment"
   ]
  },
  {
   "cell_type": "code",
   "execution_count": 38,
   "metadata": {
    "scrolled": true
   },
   "outputs": [],
   "source": [
    "index = df[df['Name of offsetting account'] == 'Cane Liability'][df['Amount in local cur.']<0].index\n",
    "df.loc[index,'Deloitte Classification Head'] = 'Cane payment'\n"
   ]
  },
  {
   "cell_type": "code",
   "execution_count": 39,
   "metadata": {},
   "outputs": [
    {
     "name": "stdout",
     "output_type": "stream",
     "text": [
      "--------------------Rule 9 Executed--------------------\n"
     ]
    },
    {
     "data": {
      "text/plain": [
       "Transfer to Main account    40169\n",
       "Collection-Sugar             8298\n",
       "Interbank transfer           2386\n",
       "Cane payment                  536\n",
       "Collection-Others             187\n",
       "Collection-Molasses           177\n",
       "Reversal transaction           98\n",
       "Collection-Alcohol             32\n",
       "Collection-Power               17\n",
       "Name: Deloitte Classification Head, dtype: int64"
      ]
     },
     "execution_count": 39,
     "metadata": {},
     "output_type": "execute_result"
    }
   ],
   "source": [
    "print('--------------------Rule 9 Executed--------------------')\n",
    "df['Deloitte Classification Head'].value_counts()"
   ]
  },
  {
   "cell_type": "markdown",
   "metadata": {},
   "source": [
    "# Rule 10 - Cane payment-return"
   ]
  },
  {
   "cell_type": "code",
   "execution_count": 40,
   "metadata": {
    "scrolled": false
   },
   "outputs": [],
   "source": [
    "index = df[df['Name of offsetting account'] == 'Cane Liability'][df['Amount in local cur.']>0].index\n",
    "df.loc[index,'Deloitte Classification Head'] = 'Cane payment-return'"
   ]
  },
  {
   "cell_type": "code",
   "execution_count": 41,
   "metadata": {},
   "outputs": [
    {
     "name": "stdout",
     "output_type": "stream",
     "text": [
      "--------------------Rule 10 Executed--------------------\n"
     ]
    },
    {
     "data": {
      "text/plain": [
       "Transfer to Main account    40169\n",
       "Collection-Sugar             8298\n",
       "Interbank transfer           2386\n",
       "Cane payment                  536\n",
       "Collection-Others             187\n",
       "Collection-Molasses           177\n",
       "Reversal transaction           98\n",
       "Collection-Alcohol             32\n",
       "Collection-Power               17\n",
       "Cane payment-return            15\n",
       "Name: Deloitte Classification Head, dtype: int64"
      ]
     },
     "execution_count": 41,
     "metadata": {},
     "output_type": "execute_result"
    }
   ],
   "source": [
    "print('--------------------Rule 10 Executed--------------------')\n",
    "df['Deloitte Classification Head'].value_counts()"
   ]
  },
  {
   "cell_type": "markdown",
   "metadata": {},
   "source": [
    "# Rule 11 "
   ]
  },
  {
   "cell_type": "code",
   "execution_count": 42,
   "metadata": {},
   "outputs": [],
   "source": [
    "#finding the index of all offst acnt beginning with 400\n",
    "ind = []\n",
    "for i in range(len(df['Offst.acct'])):\n",
    "    if str(df['Offst.acct'][i])[:3] == '400':\n",
    "        ind.append(i)\n",
    "#finding the index of all offst acnt beginning with 400 and having text = 'can tpt' or 'cane transportation'\n",
    "\n",
    "df11 = df.loc[ind]"
   ]
  },
  {
   "cell_type": "code",
   "execution_count": 43,
   "metadata": {},
   "outputs": [],
   "source": [
    "res = []\n",
    "for i in df11['Text']:\n",
    "    if 'cane tpt' in str(i).lower():\n",
    "        ind = df11[df11['Text'] == str(i)].index.tolist()\n",
    "        #print(df11[df11['Text'] == str(i)].index)\n",
    "        res.append(ind)\n",
    "    \n",
    "    elif 'cane transportation' in str(i).lower():\n",
    "        ind = df11[df11['Text'] == str(i)].index.tolist()\n",
    "        #print(df11[df11['Text'] == str(i)].index)\n",
    "        res.append(ind)    \n",
    "\n",
    "index = []\n",
    "for i in res:\n",
    "    for j in i:\n",
    "        if j not in index:\n",
    "            index.append(j)"
   ]
  },
  {
   "cell_type": "code",
   "execution_count": 44,
   "metadata": {
    "scrolled": false
   },
   "outputs": [],
   "source": [
    "df.loc[index,'Deloitte Classification Head'] = 'Cane transportation expenses'"
   ]
  },
  {
   "cell_type": "code",
   "execution_count": 45,
   "metadata": {},
   "outputs": [
    {
     "name": "stdout",
     "output_type": "stream",
     "text": [
      "--------------------Rule 11 Executed--------------------\n"
     ]
    },
    {
     "data": {
      "text/plain": [
       "Transfer to Main account        40169\n",
       "Collection-Sugar                 8298\n",
       "Interbank transfer               2386\n",
       "Cane payment                      536\n",
       "Collection-Others                 187\n",
       "Collection-Molasses               177\n",
       "Reversal transaction               98\n",
       "Cane transportation expenses       35\n",
       "Collection-Alcohol                 32\n",
       "Collection-Power                   17\n",
       "Cane payment-return                15\n",
       "Name: Deloitte Classification Head, dtype: int64"
      ]
     },
     "execution_count": 45,
     "metadata": {},
     "output_type": "execute_result"
    }
   ],
   "source": [
    "print('--------------------Rule 11 Executed--------------------')\n",
    "df['Deloitte Classification Head'].value_counts()"
   ]
  },
  {
   "cell_type": "markdown",
   "metadata": {},
   "source": [
    "# Rule 12"
   ]
  },
  {
   "cell_type": "code",
   "execution_count": 46,
   "metadata": {},
   "outputs": [],
   "source": [
    "res = []\n",
    "for i in df['Text']:\n",
    "      if 'cane loading' in str(i).lower():\n",
    "            ind = df[df['Text'] == str(i)].index.tolist()\n",
    "            #print(df[df['Text'] == str(i)].index)\n",
    "            res.append(ind)\n",
    "\n",
    "index = []\n",
    "for i in res:\n",
    "    for j in i:\n",
    "        if j not in index:\n",
    "            index.append(j)"
   ]
  },
  {
   "cell_type": "code",
   "execution_count": 47,
   "metadata": {},
   "outputs": [],
   "source": [
    "df.loc[index,'Deloitte Classification Head'] = 'Cane loading expenses'"
   ]
  },
  {
   "cell_type": "code",
   "execution_count": 48,
   "metadata": {},
   "outputs": [
    {
     "name": "stdout",
     "output_type": "stream",
     "text": [
      "--------------------Rule 12 Executed--------------------\n"
     ]
    },
    {
     "data": {
      "text/plain": [
       "Transfer to Main account        40169\n",
       "Collection-Sugar                 8298\n",
       "Interbank transfer               2386\n",
       "Cane payment                      536\n",
       "Collection-Others                 187\n",
       "Collection-Molasses               177\n",
       "Reversal transaction               98\n",
       "Cane transportation expenses       35\n",
       "Collection-Alcohol                 32\n",
       "Cane loading expenses              21\n",
       "Collection-Power                   17\n",
       "Cane payment-return                15\n",
       "Name: Deloitte Classification Head, dtype: int64"
      ]
     },
     "execution_count": 48,
     "metadata": {},
     "output_type": "execute_result"
    }
   ],
   "source": [
    "print('--------------------Rule 12 Executed--------------------')\n",
    "df['Deloitte Classification Head'].value_counts()"
   ]
  },
  {
   "cell_type": "markdown",
   "metadata": {},
   "source": [
    "# Rule 13"
   ]
  },
  {
   "cell_type": "code",
   "execution_count": 49,
   "metadata": {},
   "outputs": [],
   "source": [
    "res = []\n",
    "for i in df['Text']:\n",
    "      if 'cane comm' in str(i).lower():\n",
    "            ind = df[df['Text'] == str(i)].index.tolist()\n",
    "            #print(df[df['Text'] == str(i)].index)\n",
    "            res.append(ind)\n",
    "\n",
    "index = []\n",
    "for i in res:\n",
    "    for j in i:\n",
    "        if j not in index:\n",
    "            index.append(j)"
   ]
  },
  {
   "cell_type": "code",
   "execution_count": 50,
   "metadata": {},
   "outputs": [],
   "source": [
    "df.loc[index,'Deloitte Classification Head'] = 'Cane commission'"
   ]
  },
  {
   "cell_type": "code",
   "execution_count": 51,
   "metadata": {},
   "outputs": [
    {
     "name": "stdout",
     "output_type": "stream",
     "text": [
      "--------------------Rule 13 Executed--------------------\n"
     ]
    },
    {
     "data": {
      "text/plain": [
       "Transfer to Main account        40169\n",
       "Collection-Sugar                 8298\n",
       "Interbank transfer               2386\n",
       "Cane payment                      536\n",
       "Collection-Others                 187\n",
       "Collection-Molasses               177\n",
       "Reversal transaction               94\n",
       "Cane commission                    93\n",
       "Cane transportation expenses       35\n",
       "Collection-Alcohol                 32\n",
       "Cane loading expenses              21\n",
       "Collection-Power                   17\n",
       "Cane payment-return                15\n",
       "Name: Deloitte Classification Head, dtype: int64"
      ]
     },
     "execution_count": 51,
     "metadata": {},
     "output_type": "execute_result"
    }
   ],
   "source": [
    "print('--------------------Rule 13 Executed--------------------')\n",
    "df['Deloitte Classification Head'].value_counts()"
   ]
  },
  {
   "cell_type": "markdown",
   "metadata": {},
   "source": [
    "# Rule 14"
   ]
  },
  {
   "cell_type": "code",
   "execution_count": 52,
   "metadata": {},
   "outputs": [],
   "source": [
    "index = df[df['Name of offsetting account'] == 'Railway Freight Advance Account'].index"
   ]
  },
  {
   "cell_type": "code",
   "execution_count": 53,
   "metadata": {},
   "outputs": [],
   "source": [
    "df.loc[index,'Deloitte Classification Head'] = 'Sugar transportation expenses'"
   ]
  },
  {
   "cell_type": "code",
   "execution_count": 54,
   "metadata": {
    "scrolled": true
   },
   "outputs": [
    {
     "name": "stdout",
     "output_type": "stream",
     "text": [
      "--------------------Rule 14 Executed--------------------\n"
     ]
    },
    {
     "data": {
      "text/plain": [
       "Transfer to Main account         40169\n",
       "Collection-Sugar                  8298\n",
       "Interbank transfer                2386\n",
       "Cane payment                       536\n",
       "Collection-Others                  187\n",
       "Collection-Molasses                177\n",
       "Reversal transaction                94\n",
       "Cane commission                     93\n",
       "Sugar transportation expenses       36\n",
       "Cane transportation expenses        35\n",
       "Collection-Alcohol                  32\n",
       "Cane loading expenses               21\n",
       "Collection-Power                    17\n",
       "Cane payment-return                 15\n",
       "Name: Deloitte Classification Head, dtype: int64"
      ]
     },
     "execution_count": 54,
     "metadata": {},
     "output_type": "execute_result"
    }
   ],
   "source": [
    "print('--------------------Rule 14 Executed--------------------')\n",
    "df['Deloitte Classification Head'].value_counts()"
   ]
  },
  {
   "cell_type": "markdown",
   "metadata": {},
   "source": [
    "# Rule 15"
   ]
  },
  {
   "cell_type": "code",
   "execution_count": 55,
   "metadata": {},
   "outputs": [],
   "source": [
    "res = []\n",
    "for i in df['Text']:\n",
    "    if 'sugar handling' in str(i).lower():\n",
    "        ind = df[df['Text'] == str(i)].index.tolist()\n",
    "        #print(df11[df11['Text'] == str(i)].index)\n",
    "        res.append(ind)\n",
    "    \n",
    "    elif 'sugar loading and unloading' in str(i).lower():\n",
    "        ind = df[df['Text'] == str(i)].index.tolist()\n",
    "        #print(df11[df11['Text'] == str(i)].index)\n",
    "        res.append(ind)    \n",
    "\n",
    "index = []\n",
    "for i in res:\n",
    "    for j in i:\n",
    "        if j not in index:\n",
    "            index.append(j)"
   ]
  },
  {
   "cell_type": "code",
   "execution_count": 56,
   "metadata": {},
   "outputs": [
    {
     "data": {
      "text/plain": [
       "[51429, 51751, 54277, 54568, 55281, 55361, 57165]"
      ]
     },
     "execution_count": 56,
     "metadata": {},
     "output_type": "execute_result"
    }
   ],
   "source": [
    "index"
   ]
  },
  {
   "cell_type": "code",
   "execution_count": 57,
   "metadata": {},
   "outputs": [],
   "source": [
    "df.loc[index,'Deloitte Classification Head'] = 'Sugar handling charges'"
   ]
  },
  {
   "cell_type": "code",
   "execution_count": 58,
   "metadata": {},
   "outputs": [
    {
     "name": "stdout",
     "output_type": "stream",
     "text": [
      "--------------------Rule 15 Executed--------------------\n"
     ]
    },
    {
     "data": {
      "text/plain": [
       "Transfer to Main account         40169\n",
       "Collection-Sugar                  8298\n",
       "Interbank transfer                2386\n",
       "Cane payment                       536\n",
       "Collection-Others                  187\n",
       "Collection-Molasses                177\n",
       "Reversal transaction                94\n",
       "Cane commission                     93\n",
       "Sugar transportation expenses       36\n",
       "Cane transportation expenses        35\n",
       "Collection-Alcohol                  32\n",
       "Cane loading expenses               21\n",
       "Collection-Power                    17\n",
       "Cane payment-return                 15\n",
       "Sugar handling charges               7\n",
       "Name: Deloitte Classification Head, dtype: int64"
      ]
     },
     "execution_count": 58,
     "metadata": {},
     "output_type": "execute_result"
    }
   ],
   "source": [
    "print('--------------------Rule 15 Executed--------------------')\n",
    "df['Deloitte Classification Head'].value_counts()"
   ]
  },
  {
   "cell_type": "markdown",
   "metadata": {},
   "source": [
    "# Rule 16"
   ]
  },
  {
   "cell_type": "code",
   "execution_count": 59,
   "metadata": {},
   "outputs": [],
   "source": [
    "res = []\n",
    "for i in df['Text']:\n",
    "      if 'payment against commission' in str(i).lower():\n",
    "            ind = df[df['Text'] == str(i)].index.tolist()\n",
    "            #print(df[df['Text'] == str(i)].index)\n",
    "            res.append(ind)\n",
    "\n",
    "index = []\n",
    "for i in res:\n",
    "    for j in i:\n",
    "        if j not in index:\n",
    "            index.append(j)"
   ]
  },
  {
   "cell_type": "code",
   "execution_count": 60,
   "metadata": {},
   "outputs": [],
   "source": [
    "df.loc[index,'Deloitte Classification Head'] = 'Sugar selling commission'"
   ]
  },
  {
   "cell_type": "code",
   "execution_count": 61,
   "metadata": {},
   "outputs": [
    {
     "name": "stdout",
     "output_type": "stream",
     "text": [
      "--------------------Rule 16 Executed--------------------\n"
     ]
    },
    {
     "data": {
      "text/plain": [
       "Transfer to Main account         40169\n",
       "Collection-Sugar                  8298\n",
       "Interbank transfer                2386\n",
       "Cane payment                       536\n",
       "Collection-Others                  187\n",
       "Collection-Molasses                177\n",
       "Sugar selling commission           121\n",
       "Reversal transaction                94\n",
       "Cane commission                     93\n",
       "Sugar transportation expenses       36\n",
       "Cane transportation expenses        35\n",
       "Collection-Alcohol                  32\n",
       "Cane loading expenses               21\n",
       "Collection-Power                    17\n",
       "Cane payment-return                 15\n",
       "Sugar handling charges               7\n",
       "Name: Deloitte Classification Head, dtype: int64"
      ]
     },
     "execution_count": 61,
     "metadata": {},
     "output_type": "execute_result"
    }
   ],
   "source": [
    "print('--------------------Rule 16 Executed--------------------')\n",
    "df['Deloitte Classification Head'].value_counts()"
   ]
  },
  {
   "cell_type": "markdown",
   "metadata": {},
   "source": [
    "# Rule 17"
   ]
  },
  {
   "cell_type": "code",
   "execution_count": 62,
   "metadata": {},
   "outputs": [],
   "source": [
    "index = df[df['Name of offsetting account'] == 'Salary Payable A/c'].index"
   ]
  },
  {
   "cell_type": "code",
   "execution_count": 63,
   "metadata": {},
   "outputs": [],
   "source": [
    "df.loc[index,'Deloitte Classification Head'] = 'Salary payments'"
   ]
  },
  {
   "cell_type": "code",
   "execution_count": 64,
   "metadata": {},
   "outputs": [
    {
     "name": "stdout",
     "output_type": "stream",
     "text": [
      "--------------------Rule 17 Executed--------------------\n"
     ]
    },
    {
     "data": {
      "text/plain": [
       "Transfer to Main account         40169\n",
       "Collection-Sugar                  8298\n",
       "Interbank transfer                2386\n",
       "Cane payment                       536\n",
       "Collection-Others                  187\n",
       "Collection-Molasses                177\n",
       "Sugar selling commission           121\n",
       "Reversal transaction                94\n",
       "Cane commission                     93\n",
       "Salary payments                     56\n",
       "Sugar transportation expenses       36\n",
       "Cane transportation expenses        35\n",
       "Collection-Alcohol                  32\n",
       "Cane loading expenses               21\n",
       "Collection-Power                    17\n",
       "Cane payment-return                 15\n",
       "Sugar handling charges               7\n",
       "Name: Deloitte Classification Head, dtype: int64"
      ]
     },
     "execution_count": 64,
     "metadata": {},
     "output_type": "execute_result"
    }
   ],
   "source": [
    "print('--------------------Rule 17 Executed--------------------')\n",
    "df['Deloitte Classification Head'].value_counts()"
   ]
  },
  {
   "cell_type": "markdown",
   "metadata": {},
   "source": [
    "# Rule 18"
   ]
  },
  {
   "cell_type": "code",
   "execution_count": 65,
   "metadata": {
    "scrolled": true
   },
   "outputs": [],
   "source": [
    "index = df[df['Name of offsetting account'] == 'Duty Draw Back Receivable'].index"
   ]
  },
  {
   "cell_type": "code",
   "execution_count": 66,
   "metadata": {},
   "outputs": [],
   "source": [
    "df.loc[index,'Deloitte Classification Head'] = 'Refund of stat dues'"
   ]
  },
  {
   "cell_type": "code",
   "execution_count": 67,
   "metadata": {},
   "outputs": [
    {
     "name": "stdout",
     "output_type": "stream",
     "text": [
      "--------------------Rule 18 Executed--------------------\n"
     ]
    },
    {
     "data": {
      "text/plain": [
       "Transfer to Main account         40169\n",
       "Collection-Sugar                  8298\n",
       "Interbank transfer                2386\n",
       "Cane payment                       536\n",
       "Collection-Others                  182\n",
       "Collection-Molasses                177\n",
       "Sugar selling commission           121\n",
       "Reversal transaction                94\n",
       "Cane commission                     93\n",
       "Salary payments                     56\n",
       "Sugar transportation expenses       36\n",
       "Cane transportation expenses        35\n",
       "Collection-Alcohol                  32\n",
       "Cane loading expenses               21\n",
       "Collection-Power                    17\n",
       "Cane payment-return                 15\n",
       "Sugar handling charges               7\n",
       "Refund of stat dues                  5\n",
       "Name: Deloitte Classification Head, dtype: int64"
      ]
     },
     "execution_count": 67,
     "metadata": {},
     "output_type": "execute_result"
    }
   ],
   "source": [
    "print('--------------------Rule 18 Executed--------------------')\n",
    "df['Deloitte Classification Head'].value_counts()"
   ]
  },
  {
   "cell_type": "markdown",
   "metadata": {},
   "source": [
    "# Rule 19"
   ]
  },
  {
   "cell_type": "code",
   "execution_count": 68,
   "metadata": {},
   "outputs": [],
   "source": [
    "index = df[df['Name of offsetting account'] == 'Bank Charges'].index"
   ]
  },
  {
   "cell_type": "code",
   "execution_count": 69,
   "metadata": {},
   "outputs": [],
   "source": [
    "df.loc[index,'Deloitte Classification Head'] = 'Bank Charges'"
   ]
  },
  {
   "cell_type": "code",
   "execution_count": 70,
   "metadata": {},
   "outputs": [
    {
     "name": "stdout",
     "output_type": "stream",
     "text": [
      "--------------------Rule 19 Executed--------------------\n"
     ]
    },
    {
     "data": {
      "text/plain": [
       "Transfer to Main account         40169\n",
       "Collection-Sugar                  8298\n",
       "Interbank transfer                2383\n",
       "Cane payment                       536\n",
       "Collection-Molasses                177\n",
       "Collection-Others                  176\n",
       "Sugar selling commission           121\n",
       "Bank Charges                       101\n",
       "Reversal transaction                94\n",
       "Cane commission                     93\n",
       "Salary payments                     56\n",
       "Sugar transportation expenses       36\n",
       "Cane transportation expenses        35\n",
       "Collection-Alcohol                  32\n",
       "Cane loading expenses               21\n",
       "Collection-Power                    17\n",
       "Cane payment-return                 15\n",
       "Sugar handling charges               7\n",
       "Refund of stat dues                  5\n",
       "Name: Deloitte Classification Head, dtype: int64"
      ]
     },
     "execution_count": 70,
     "metadata": {},
     "output_type": "execute_result"
    }
   ],
   "source": [
    "print('--------------------Rule 19 Executed--------------------')\n",
    "df['Deloitte Classification Head'].value_counts()"
   ]
  },
  {
   "cell_type": "markdown",
   "metadata": {},
   "source": [
    "# Rule 21"
   ]
  },
  {
   "cell_type": "code",
   "execution_count": 71,
   "metadata": {},
   "outputs": [],
   "source": [
    "index = df[df['Type of Account'] == 'TRA-Capital Expenditure'][df.Type != 'ZR'][df['Deloitte Classification Head'].isnull()].index"
   ]
  },
  {
   "cell_type": "code",
   "execution_count": 72,
   "metadata": {},
   "outputs": [],
   "source": [
    "df.loc[index,'Deloitte Classification Head'] = 'Capital expenditure'"
   ]
  },
  {
   "cell_type": "code",
   "execution_count": 73,
   "metadata": {},
   "outputs": [
    {
     "name": "stdout",
     "output_type": "stream",
     "text": [
      "--------------------Rule 21 Executed--------------------\n"
     ]
    },
    {
     "data": {
      "text/plain": [
       "Transfer to Main account         40169\n",
       "Collection-Sugar                  8298\n",
       "Interbank transfer                2383\n",
       "Cane payment                       536\n",
       "Collection-Molasses                177\n",
       "Collection-Others                  176\n",
       "Sugar selling commission           121\n",
       "Bank Charges                       101\n",
       "Reversal transaction                94\n",
       "Cane commission                     93\n",
       "Capital expenditure                 58\n",
       "Salary payments                     56\n",
       "Sugar transportation expenses       36\n",
       "Cane transportation expenses        35\n",
       "Collection-Alcohol                  32\n",
       "Cane loading expenses               21\n",
       "Collection-Power                    17\n",
       "Cane payment-return                 15\n",
       "Sugar handling charges               7\n",
       "Refund of stat dues                  5\n",
       "Name: Deloitte Classification Head, dtype: int64"
      ]
     },
     "execution_count": 73,
     "metadata": {},
     "output_type": "execute_result"
    }
   ],
   "source": [
    "print('--------------------Rule 21 Executed--------------------')\n",
    "df['Deloitte Classification Head'].value_counts()"
   ]
  },
  {
   "cell_type": "markdown",
   "metadata": {},
   "source": [
    "# Rule 22"
   ]
  },
  {
   "cell_type": "code",
   "execution_count": 74,
   "metadata": {},
   "outputs": [],
   "source": [
    "df22 = df[df['Type of Account'] == 'Cane Price Payment Account']"
   ]
  },
  {
   "cell_type": "code",
   "execution_count": 75,
   "metadata": {},
   "outputs": [],
   "source": [
    "res = []\n",
    "for i in df22['Text']:\n",
    "      if 'advance' in str(i).lower():\n",
    "            ind = df22[df22['Text'] == str(i)].index.tolist()\n",
    "            #print(df22[df22['Text'] == str(i)].index)\n",
    "            res.append(ind)\n",
    "\n",
    "index = []\n",
    "for i in res:\n",
    "    for j in i:\n",
    "        if j not in index:\n",
    "            index.append(j)"
   ]
  },
  {
   "cell_type": "code",
   "execution_count": 76,
   "metadata": {
    "scrolled": true
   },
   "outputs": [
    {
     "data": {
      "text/plain": [
       "140"
      ]
     },
     "execution_count": 76,
     "metadata": {},
     "output_type": "execute_result"
    }
   ],
   "source": [
    "len(index)"
   ]
  },
  {
   "cell_type": "code",
   "execution_count": 77,
   "metadata": {
    "scrolled": true
   },
   "outputs": [],
   "source": [
    "df.loc[index,'Deloitte Classification Head'] = 'Loan to farmers'"
   ]
  },
  {
   "cell_type": "code",
   "execution_count": 78,
   "metadata": {},
   "outputs": [
    {
     "name": "stdout",
     "output_type": "stream",
     "text": [
      "--------------------Rule 22 Executed--------------------\n"
     ]
    },
    {
     "data": {
      "text/plain": [
       "Transfer to Main account         40169\n",
       "Collection-Sugar                  8298\n",
       "Interbank transfer                2383\n",
       "Cane payment                       529\n",
       "Collection-Molasses                177\n",
       "Collection-Others                  176\n",
       "Loan to farmers                    140\n",
       "Sugar selling commission           121\n",
       "Bank Charges                       101\n",
       "Reversal transaction                94\n",
       "Cane commission                     93\n",
       "Capital expenditure                 58\n",
       "Salary payments                     56\n",
       "Sugar transportation expenses       36\n",
       "Cane transportation expenses        35\n",
       "Collection-Alcohol                  32\n",
       "Cane loading expenses               21\n",
       "Collection-Power                    17\n",
       "Cane payment-return                 15\n",
       "Sugar handling charges               7\n",
       "Refund of stat dues                  5\n",
       "Name: Deloitte Classification Head, dtype: int64"
      ]
     },
     "execution_count": 78,
     "metadata": {},
     "output_type": "execute_result"
    }
   ],
   "source": [
    "print('--------------------Rule 22 Executed--------------------')\n",
    "df['Deloitte Classification Head'].value_counts()"
   ]
  },
  {
   "cell_type": "markdown",
   "metadata": {},
   "source": [
    "# Rule 23"
   ]
  },
  {
   "cell_type": "code",
   "execution_count": 79,
   "metadata": {},
   "outputs": [],
   "source": [
    "index = df[df['Name of offsetting account'] == 'Cane Seed Loan Account'].index"
   ]
  },
  {
   "cell_type": "code",
   "execution_count": 80,
   "metadata": {},
   "outputs": [],
   "source": [
    "df.loc[index,'Deloitte Classification Head'] = 'Advance for cane seed'"
   ]
  },
  {
   "cell_type": "code",
   "execution_count": 81,
   "metadata": {},
   "outputs": [
    {
     "name": "stdout",
     "output_type": "stream",
     "text": [
      "--------------------Rule 23 Executed--------------------\n"
     ]
    },
    {
     "data": {
      "text/plain": [
       "Transfer to Main account         40169\n",
       "Collection-Sugar                  8298\n",
       "Interbank transfer                2383\n",
       "Cane payment                       529\n",
       "Collection-Molasses                177\n",
       "Collection-Others                  176\n",
       "Loan to farmers                    140\n",
       "Sugar selling commission           121\n",
       "Bank Charges                       101\n",
       "Reversal transaction                94\n",
       "Cane commission                     93\n",
       "Capital expenditure                 58\n",
       "Salary payments                     56\n",
       "Sugar transportation expenses       36\n",
       "Cane transportation expenses        35\n",
       "Collection-Alcohol                  32\n",
       "Cane loading expenses               21\n",
       "Collection-Power                    17\n",
       "Cane payment-return                 15\n",
       "Sugar handling charges               7\n",
       "Refund of stat dues                  5\n",
       "Advance for cane seed                2\n",
       "Name: Deloitte Classification Head, dtype: int64"
      ]
     },
     "execution_count": 81,
     "metadata": {},
     "output_type": "execute_result"
    }
   ],
   "source": [
    "print('--------------------Rule 23 Executed--------------------')\n",
    "df['Deloitte Classification Head'].value_counts()"
   ]
  },
  {
   "cell_type": "markdown",
   "metadata": {},
   "source": [
    "# Rule 24 "
   ]
  },
  {
   "cell_type": "code",
   "execution_count": 82,
   "metadata": {},
   "outputs": [],
   "source": [
    "index = df[df['Type of Account'] == 'TRA-Debt Service'][df['Name of offsetting account'] == 'Interest Accrued and Due'].index"
   ]
  },
  {
   "cell_type": "code",
   "execution_count": 83,
   "metadata": {},
   "outputs": [],
   "source": [
    "df.loc[index,'Deloitte Classification Head'] = 'Interest payment'"
   ]
  },
  {
   "cell_type": "code",
   "execution_count": 84,
   "metadata": {},
   "outputs": [
    {
     "name": "stdout",
     "output_type": "stream",
     "text": [
      "--------------------Rule 24 Executed--------------------\n"
     ]
    },
    {
     "data": {
      "text/plain": [
       "Transfer to Main account         40169\n",
       "Collection-Sugar                  8298\n",
       "Interbank transfer                2383\n",
       "Cane payment                       529\n",
       "Collection-Molasses                177\n",
       "Collection-Others                  176\n",
       "Loan to farmers                    140\n",
       "Sugar selling commission           121\n",
       "Bank Charges                       101\n",
       "Reversal transaction                94\n",
       "Cane commission                     93\n",
       "Capital expenditure                 58\n",
       "Salary payments                     56\n",
       "Interest payment                    55\n",
       "Sugar transportation expenses       36\n",
       "Cane transportation expenses        35\n",
       "Collection-Alcohol                  32\n",
       "Cane loading expenses               21\n",
       "Collection-Power                    17\n",
       "Cane payment-return                 15\n",
       "Sugar handling charges               7\n",
       "Refund of stat dues                  5\n",
       "Advance for cane seed                2\n",
       "Name: Deloitte Classification Head, dtype: int64"
      ]
     },
     "execution_count": 84,
     "metadata": {},
     "output_type": "execute_result"
    }
   ],
   "source": [
    "print('--------------------Rule 24 Executed--------------------')\n",
    "df['Deloitte Classification Head'].value_counts()"
   ]
  },
  {
   "cell_type": "markdown",
   "metadata": {},
   "source": [
    "# Rule 25"
   ]
  },
  {
   "cell_type": "code",
   "execution_count": 85,
   "metadata": {},
   "outputs": [],
   "source": [
    "df25 = df[df['Type of Account'] == 'TRA-Debt Service']"
   ]
  },
  {
   "cell_type": "code",
   "execution_count": 86,
   "metadata": {},
   "outputs": [],
   "source": [
    "res = []\n",
    "for i in df25['Text']:\n",
    "    if 'instalment' in str(i).lower():\n",
    "        ind = df25[df25['Text'] == str(i)].index.tolist()\n",
    "        #print(df25[df25['Text'] == str(i)].index)\n",
    "        res.append(ind)\n",
    "    elif 'repayment' in str(i).lower():\n",
    "        ind = df25[df25['Text'] == str(i)].index.tolist()\n",
    "        #print(df25[df25['Text'] == str(i)].index)\n",
    "        res.append(ind)\n",
    "        \n",
    "    \n",
    "index = []\n",
    "for i in res:\n",
    "    for j in i:\n",
    "        if j not in index:\n",
    "            index.append(j)"
   ]
  },
  {
   "cell_type": "code",
   "execution_count": 87,
   "metadata": {},
   "outputs": [],
   "source": [
    "df.loc[index,'Deloitte Classification Head'] = 'Repayment of Term loan'"
   ]
  },
  {
   "cell_type": "code",
   "execution_count": 88,
   "metadata": {},
   "outputs": [
    {
     "name": "stdout",
     "output_type": "stream",
     "text": [
      "--------------------Rule 25 Executed--------------------\n"
     ]
    },
    {
     "data": {
      "text/plain": [
       "Transfer to Main account         40169\n",
       "Collection-Sugar                  8298\n",
       "Interbank transfer                2383\n",
       "Cane payment                       529\n",
       "Collection-Molasses                177\n",
       "Collection-Others                  176\n",
       "Loan to farmers                    140\n",
       "Sugar selling commission           121\n",
       "Bank Charges                       101\n",
       "Reversal transaction                94\n",
       "Cane commission                     93\n",
       "Capital expenditure                 58\n",
       "Salary payments                     56\n",
       "Interest payment                    55\n",
       "Repayment of Term loan              38\n",
       "Sugar transportation expenses       36\n",
       "Cane transportation expenses        35\n",
       "Collection-Alcohol                  32\n",
       "Cane loading expenses               21\n",
       "Collection-Power                    17\n",
       "Cane payment-return                 15\n",
       "Sugar handling charges               7\n",
       "Refund of stat dues                  5\n",
       "Advance for cane seed                2\n",
       "Name: Deloitte Classification Head, dtype: int64"
      ]
     },
     "execution_count": 88,
     "metadata": {},
     "output_type": "execute_result"
    }
   ],
   "source": [
    "print('--------------------Rule 25 Executed--------------------')\n",
    "df['Deloitte Classification Head'].value_counts()"
   ]
  },
  {
   "cell_type": "markdown",
   "metadata": {},
   "source": [
    "# Rule 26"
   ]
  },
  {
   "cell_type": "code",
   "execution_count": 89,
   "metadata": {},
   "outputs": [],
   "source": [
    "res = []\n",
    "for i in df['Text']:\n",
    "      if 'cash deposit' in str(i).lower():\n",
    "            ind = df[df['Text'] == str(i)].index.tolist()\n",
    "            #print(df[df['Text'] == str(i)].index)\n",
    "            res.append(ind)\n",
    "\n",
    "index = []\n",
    "for i in res:\n",
    "    for j in i:\n",
    "        if j not in index:\n",
    "            index.append(j)"
   ]
  },
  {
   "cell_type": "code",
   "execution_count": 90,
   "metadata": {},
   "outputs": [],
   "source": [
    "df.loc[index,'Deloitte Classification Head'] = 'Cash deposit'"
   ]
  },
  {
   "cell_type": "code",
   "execution_count": 91,
   "metadata": {},
   "outputs": [
    {
     "name": "stdout",
     "output_type": "stream",
     "text": [
      "--------------------Rule 26 Executed--------------------\n"
     ]
    },
    {
     "data": {
      "text/plain": [
       "Transfer to Main account         40169\n",
       "Collection-Sugar                  8298\n",
       "Interbank transfer                2383\n",
       "Cane payment                       529\n",
       "Collection-Molasses                177\n",
       "Collection-Others                  176\n",
       "Loan to farmers                    140\n",
       "Sugar selling commission           121\n",
       "Bank Charges                       101\n",
       "Reversal transaction                94\n",
       "Cane commission                     93\n",
       "Capital expenditure                 58\n",
       "Salary payments                     56\n",
       "Interest payment                    55\n",
       "Repayment of Term loan              38\n",
       "Sugar transportation expenses       36\n",
       "Cane transportation expenses        35\n",
       "Collection-Alcohol                  32\n",
       "Cane loading expenses               21\n",
       "Collection-Power                    17\n",
       "Cane payment-return                 15\n",
       "Sugar handling charges               7\n",
       "Refund of stat dues                  5\n",
       "Cash deposit                         4\n",
       "Advance for cane seed                2\n",
       "Name: Deloitte Classification Head, dtype: int64"
      ]
     },
     "execution_count": 91,
     "metadata": {},
     "output_type": "execute_result"
    }
   ],
   "source": [
    "print('--------------------Rule 26 Executed--------------------')\n",
    "df['Deloitte Classification Head'].value_counts()"
   ]
  },
  {
   "cell_type": "markdown",
   "metadata": {},
   "source": [
    "# Rule 27"
   ]
  },
  {
   "cell_type": "code",
   "execution_count": 92,
   "metadata": {
    "scrolled": true
   },
   "outputs": [],
   "source": [
    "res = []\n",
    "for i in df['Text']:\n",
    "      if 'cash withdrawl' in str(i).lower():\n",
    "            ind = df[df['Text'] == str(i)].index.tolist()\n",
    "            #print(df[df['Text'] == str(i)].index)\n",
    "            res.append(ind)\n",
    "\n",
    "index = []\n",
    "for i in res:\n",
    "    for j in i:\n",
    "        if j not in index:\n",
    "            index.append(j)"
   ]
  },
  {
   "cell_type": "code",
   "execution_count": 93,
   "metadata": {},
   "outputs": [],
   "source": [
    "df.loc[index,'Deloitte Classification Head'] = 'Cash withdrawal'"
   ]
  },
  {
   "cell_type": "code",
   "execution_count": 94,
   "metadata": {
    "scrolled": true
   },
   "outputs": [
    {
     "name": "stdout",
     "output_type": "stream",
     "text": [
      "--------------------Rule 27 Executed--------------------\n"
     ]
    },
    {
     "data": {
      "text/plain": [
       "Transfer to Main account         40169\n",
       "Collection-Sugar                  8298\n",
       "Interbank transfer                2383\n",
       "Cane payment                       529\n",
       "Collection-Molasses                177\n",
       "Collection-Others                  176\n",
       "Loan to farmers                    140\n",
       "Sugar selling commission           121\n",
       "Bank Charges                       101\n",
       "Reversal transaction                94\n",
       "Cane commission                     93\n",
       "Cash withdrawal                     67\n",
       "Capital expenditure                 58\n",
       "Salary payments                     56\n",
       "Interest payment                    55\n",
       "Repayment of Term loan              38\n",
       "Sugar transportation expenses       36\n",
       "Cane transportation expenses        35\n",
       "Collection-Alcohol                  32\n",
       "Cane loading expenses               21\n",
       "Collection-Power                    17\n",
       "Cane payment-return                 15\n",
       "Sugar handling charges               7\n",
       "Refund of stat dues                  5\n",
       "Cash deposit                         4\n",
       "Advance for cane seed                2\n",
       "Name: Deloitte Classification Head, dtype: int64"
      ]
     },
     "execution_count": 94,
     "metadata": {},
     "output_type": "execute_result"
    }
   ],
   "source": [
    "print('--------------------Rule 27 Executed--------------------')\n",
    "df['Deloitte Classification Head'].value_counts()"
   ]
  },
  {
   "cell_type": "markdown",
   "metadata": {},
   "source": [
    "# Rule 28"
   ]
  },
  {
   "cell_type": "code",
   "execution_count": 95,
   "metadata": {},
   "outputs": [],
   "source": [
    "res = []\n",
    "for i in df['Text']:\n",
    "      if 'cane center' in str(i).lower():\n",
    "            ind = df[df['Text'] == str(i)].index.tolist()\n",
    "            #print(df[df['Text'] == str(i)].index)\n",
    "            res.append(ind)\n",
    "\n",
    "index = []\n",
    "for i in res:\n",
    "    for j in i:\n",
    "        if j not in index:\n",
    "            index.append(j)"
   ]
  },
  {
   "cell_type": "code",
   "execution_count": 96,
   "metadata": {},
   "outputs": [],
   "source": [
    "df.loc[index,'Deloitte Classification Head'] = 'Cane centre expenses'"
   ]
  },
  {
   "cell_type": "code",
   "execution_count": 97,
   "metadata": {},
   "outputs": [
    {
     "name": "stdout",
     "output_type": "stream",
     "text": [
      "--------------------Rule 28 Executed--------------------\n"
     ]
    },
    {
     "data": {
      "text/plain": [
       "Transfer to Main account         40169\n",
       "Collection-Sugar                  8298\n",
       "Interbank transfer                2383\n",
       "Cane payment                       529\n",
       "Collection-Molasses                177\n",
       "Collection-Others                  176\n",
       "Loan to farmers                    140\n",
       "Sugar selling commission           121\n",
       "Bank Charges                       101\n",
       "Reversal transaction                94\n",
       "Cane commission                     93\n",
       "Cash withdrawal                     67\n",
       "Capital expenditure                 58\n",
       "Salary payments                     56\n",
       "Interest payment                    55\n",
       "Repayment of Term loan              38\n",
       "Sugar transportation expenses       36\n",
       "Cane transportation expenses        35\n",
       "Collection-Alcohol                  32\n",
       "Cane loading expenses               21\n",
       "Collection-Power                    17\n",
       "Cane payment-return                 15\n",
       "Cane centre expenses                14\n",
       "Sugar handling charges               7\n",
       "Refund of stat dues                  5\n",
       "Cash deposit                         4\n",
       "Advance for cane seed                2\n",
       "Name: Deloitte Classification Head, dtype: int64"
      ]
     },
     "execution_count": 97,
     "metadata": {},
     "output_type": "execute_result"
    }
   ],
   "source": [
    "print('--------------------Rule 28 Executed--------------------')\n",
    "df['Deloitte Classification Head'].value_counts()"
   ]
  },
  {
   "cell_type": "code",
   "execution_count": 98,
   "metadata": {},
   "outputs": [],
   "source": [
    "final = df.iloc[:,:-6]"
   ]
  },
  {
   "cell_type": "code",
   "execution_count": 99,
   "metadata": {},
   "outputs": [],
   "source": [
    "pf = pd.read_excel('C:/Users/skesh/Desktop/Cash flow automation/Oct Nov/Output_Praveen.xlsx')\n",
    "Output = pd.merge(final,pf[['Deloitte Comments']],how='left',left_on = final.index, right_on = pf[['Deloitte Comments']].index)\n",
    "Output = Output.iloc[:,1:]"
   ]
  },
  {
   "cell_type": "code",
   "execution_count": 100,
   "metadata": {},
   "outputs": [],
   "source": [
    "#Output.to_excel('C:/Users/skesh/Desktop/Screenshots/Jobs/Cash Flow Automation.xlsx')"
   ]
  },
  {
   "cell_type": "code",
   "execution_count": 101,
   "metadata": {},
   "outputs": [],
   "source": [
    "#val = Output[Output['Deloitte Classification Head'] != Output['Deloitte Comments']][Output['Deloitte Classification Head'].notnull()]"
   ]
  },
  {
   "cell_type": "code",
   "execution_count": 102,
   "metadata": {},
   "outputs": [],
   "source": [
    "#val.to_excel('Cash Flow Automation Validation.xlsx')"
   ]
  },
  {
   "cell_type": "code",
   "execution_count": 103,
   "metadata": {},
   "outputs": [
    {
     "data": {
      "text/plain": [
       "Transfer to Main account                40179\n",
       "Collection-Sugar                         8272\n",
       "Interbank transfer                       2533\n",
       "Purchase of stores & spares              1298\n",
       "Cane payment                             1207\n",
       "Repairs & maintenance                    1124\n",
       "Employee advances and reimbursements      840\n",
       "Admin expenses                            577\n",
       "Contractor payments                       528\n",
       "Loan to farmers                           519\n",
       "Reversal transaction                      394\n",
       "Cane payment-return                       331\n",
       "Name: Deloitte Comments, dtype: int64"
      ]
     },
     "execution_count": 103,
     "metadata": {},
     "output_type": "execute_result"
    }
   ],
   "source": [
    "pf['Deloitte Comments'].value_counts().head(12)"
   ]
  },
  {
   "cell_type": "code",
   "execution_count": null,
   "metadata": {},
   "outputs": [],
   "source": []
  }
 ],
 "metadata": {
  "kernelspec": {
   "display_name": "Python 3",
   "language": "python",
   "name": "python3"
  },
  "language_info": {
   "codemirror_mode": {
    "name": "ipython",
    "version": 3
   },
   "file_extension": ".py",
   "mimetype": "text/x-python",
   "name": "python",
   "nbconvert_exporter": "python",
   "pygments_lexer": "ipython3",
   "version": "3.7.7"
  }
 },
 "nbformat": 4,
 "nbformat_minor": 2
}
